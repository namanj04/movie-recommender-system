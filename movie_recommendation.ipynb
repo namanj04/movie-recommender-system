{
 "cells": [
  {
   "cell_type": "markdown",
   "id": "254e7038-b93d-44a2-a74d-2f571c05d07e",
   "metadata": {},
   "source": [
    "# 🎬 Movie Recommender System\n",
    "This is a content-based movie recommender system using the TMDB 5000 movie dataset. It recommends movies based on plot, genre, and keywords.\n"
   ]
  },
  {
   "cell_type": "markdown",
   "id": "03a3757f-b808-463a-a420-096279fb807e",
   "metadata": {},
   "source": [
    "## Step 1: Importing Libraries and Loading Dataset\n",
    "We load the TMDB 5000 dataset to begin our recommendation engine.\n"
   ]
  },
  {
   "cell_type": "code",
   "execution_count": 1,
   "id": "5f16577f-1452-4c5e-846f-bc49f20aa130",
   "metadata": {},
   "outputs": [],
   "source": [
    "import pandas as pd "
   ]
  },
  {
   "cell_type": "code",
   "execution_count": 2,
   "id": "652ea025-4e11-4bde-9204-04efd681b67d",
   "metadata": {},
   "outputs": [],
   "source": [
    "df = pd.read_csv(\"tmdb_5000_movies.csv\")"
   ]
  },
  {
   "cell_type": "markdown",
   "id": "0e789d63-5531-4650-8024-ba2521ad3395",
   "metadata": {},
   "source": [
    "## Step 2: Handling Missing Data\n",
    "We fill null values in key columns like `overview`, `tagline`, and format the `release_date`.\n"
   ]
  },
  {
   "cell_type": "code",
   "execution_count": 3,
   "id": "3f73c5fe-1014-4035-a65b-69b846731341",
   "metadata": {},
   "outputs": [
    {
     "data": {
      "text/plain": [
       "id                        0\n",
       "genres                    0\n",
       "keywords                  0\n",
       "original_language         0\n",
       "original_title            0\n",
       "overview                  3\n",
       "popularity                0\n",
       "production_companies      0\n",
       "release_date              1\n",
       "revenue                   0\n",
       "tagline                 844\n",
       "vote_average              0\n",
       "dtype: int64"
      ]
     },
     "execution_count": 3,
     "metadata": {},
     "output_type": "execute_result"
    }
   ],
   "source": [
    "df.isnull().sum()"
   ]
  },
  {
   "cell_type": "code",
   "execution_count": 4,
   "id": "84e4c1a5-d32a-4475-a703-1281d1697ec0",
   "metadata": {},
   "outputs": [],
   "source": [
    "df['overview']= df['overview'].fillna(\"\")\n",
    "df['tagline']= df['tagline'].fillna(\"\")\n",
    "df['release_date'] = df['release_date'].fillna(\"Unknown\")"
   ]
  },
  {
   "cell_type": "markdown",
   "id": "4872e360-3548-46f5-9ef0-b485d07e86e0",
   "metadata": {},
   "source": [
    "## Step 3: Cleaning JSON Columns\n",
    "The `genres`, `keywords` and `production companies` columns contain stringified dictionaries. We extract only the `name` values.\n"
   ]
  },
  {
   "cell_type": "code",
   "execution_count": 5,
   "id": "01c6ae78-37b9-4a74-bc89-62d98535034f",
   "metadata": {},
   "outputs": [],
   "source": [
    "import ast\n",
    "\n",
    "def extract_names(text):\n",
    "    try:\n",
    "        return \" \".join([item['name'] for item in ast.literal_eval(text)])\n",
    "    except:\n",
    "        return \"\""
   ]
  },
  {
   "cell_type": "code",
   "execution_count": 6,
   "id": "eb522345-de86-409c-a62e-0a39a3033994",
   "metadata": {},
   "outputs": [],
   "source": [
    "df['genres'] = df['genres'].apply(extract_names)\n",
    "df['keywords'] = df['keywords'].apply(extract_names)\n",
    "df['production_companies'] = df['production_companies'].apply(extract_names)"
   ]
  },
  {
   "cell_type": "markdown",
   "id": "3fe19054-b761-4ede-a10f-6e55b7a09215",
   "metadata": {},
   "source": [
    "## Step 4: Creating the Tags Column\n",
    "We combine `overview`, `genres`, `keywords`, and `tagline` into one `tags` column that represents each movie's content.\n"
   ]
  },
  {
   "cell_type": "code",
   "execution_count": 7,
   "id": "87fb85b8-5f94-4e2c-b53b-3a7f7a87da8d",
   "metadata": {},
   "outputs": [],
   "source": [
    "df['tags'] = df['overview'] + \" \" + df['genres'] + \" \" + df['keywords'] + \" \" + df['tagline']\n",
    "df['tags'] = df['tags'].str.lower()"
   ]
  },
  {
   "cell_type": "markdown",
   "id": "4e605b2e-99d3-4031-bd77-4b12b2515999",
   "metadata": {},
   "source": [
    "## Step 5: Vectorizing the Tags\n",
    "We use CountVectorizer to convert tags into numerical vectors for similarity calculation.\n"
   ]
  },
  {
   "cell_type": "code",
   "execution_count": 8,
   "id": "503a2f22-267c-49c7-9e12-74428b837e05",
   "metadata": {},
   "outputs": [],
   "source": [
    "from sklearn.feature_extraction.text import CountVectorizer\n",
    "cv = CountVectorizer(max_features=5000, stop_words='english')\n",
    "vectors = cv.fit_transform(df['tags']).toarray()"
   ]
  },
  {
   "cell_type": "markdown",
   "id": "ed56a7b3-49f1-42d4-88d7-9987c607ddfb",
   "metadata": {},
   "source": [
    "## Step 6: Calculating Cosine Similarity\n",
    "We create a similarity matrix to find how closely related two movies are based on content.\n"
   ]
  },
  {
   "cell_type": "code",
   "execution_count": 9,
   "id": "e3b16ae5-1fd6-4736-a215-298c198a37c2",
   "metadata": {},
   "outputs": [],
   "source": [
    "from sklearn.metrics.pairwise import cosine_similarity"
   ]
  },
  {
   "cell_type": "code",
   "execution_count": 10,
   "id": "949f0e1d-d3e0-4a2a-8ef1-18d6b7d93252",
   "metadata": {},
   "outputs": [],
   "source": [
    "similarity = cosine_similarity(vectors)"
   ]
  },
  {
   "cell_type": "markdown",
   "id": "8bddfa4a-1334-41bc-806a-031ccb7016be",
   "metadata": {},
   "source": [
    "## Step 7: Recommendation Function\n",
    "This function takes a movie name and recommends 5 similar movies using cosine similarity.\n"
   ]
  },
  {
   "cell_type": "code",
   "execution_count": 11,
   "id": "6fb90fd1-27cf-46bb-9d50-79039a063f5c",
   "metadata": {},
   "outputs": [],
   "source": [
    "def recommend(movie):\n",
    "    movie = movie.lower()\n",
    "    if movie not in df['original_title'].str.lower().values:\n",
    "        return \"movie not found.\"\n",
    "    index = df[df['original_title'].str.lower() == movie].index[0]\n",
    "    distances = list(enumerate(similarity[index]))\n",
    "    distances = sorted(distances, key=lambda x:x[1], reverse = True)[1:6]\n",
    "    for i in distances:\n",
    "        print (df.iloc[i[0]].original_title)"
   ]
  },
  {
   "cell_type": "code",
   "execution_count": 12,
   "id": "f22055c4-8552-4800-812f-c671b2670f30",
   "metadata": {},
   "outputs": [],
   "source": [
    "df.to_csv(\"tmdb_cleaned.csv\", index=False)"
   ]
  },
  {
   "cell_type": "markdown",
   "id": "1f5917e9-bb91-4c2b-b2d3-75e9e77eaaae",
   "metadata": {},
   "source": [
    "## 🔚 Summary\n",
    "This content-based recommender suggests movies similar to the one entered by the user. It uses cosine similarity on feature-engineered text data combining plot, genres, keywords, and taglines.\n"
   ]
  },
  {
   "cell_type": "code",
   "execution_count": null,
   "id": "3031d165-fa38-482d-a713-8f614356616f",
   "metadata": {},
   "outputs": [],
   "source": []
  }
 ],
 "metadata": {
  "kernelspec": {
   "display_name": "Python [conda env:base] *",
   "language": "python",
   "name": "conda-base-py"
  },
  "language_info": {
   "codemirror_mode": {
    "name": "ipython",
    "version": 3
   },
   "file_extension": ".py",
   "mimetype": "text/x-python",
   "name": "python",
   "nbconvert_exporter": "python",
   "pygments_lexer": "ipython3",
   "version": "3.12.7"
  }
 },
 "nbformat": 4,
 "nbformat_minor": 5
}
